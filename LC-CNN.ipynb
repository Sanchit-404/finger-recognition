{
 "cells": [
  {
   "cell_type": "code",
   "execution_count": 85,
   "metadata": {},
   "outputs": [],
   "source": [
    "import tensorflow as tf\n",
    "\n",
    "from tensorflow.keras import datasets, layers, models\n",
    "import matplotlib.pyplot as plt\n",
    "#from keras.layers.normalization import layer_normalization\n",
    "from tensorflow import keras\n",
    "from tensorflow.keras.models import Sequential"
   ]
  },
  {
   "cell_type": "code",
   "execution_count": 112,
   "metadata": {},
   "outputs": [],
   "source": [
    "\n",
    "model = tf.keras.Sequential([\n",
    "  \n",
    "  tf.keras.layers.Conv2D(filters=16,kernel_size=(5,5), strides=1,input_shape=(320,240,4)),\n",
    "  tf.keras.layers.Conv2D(filters=16,kernel_size=(1,1),strides=1),\n",
    "  tf.keras.layers.Conv2D(filters=64,kernel_size=(11,1),strides=4),\n",
    "  tf.keras.layers.LayerNormalization(),\n",
    "  tf.keras.layers.MaxPooling2D(pool_size=(3,3),strides=2),\n",
    "  tf.keras.layers.ReLU(),\n",
    "  tf.keras.layers.Conv2D(filters=128,kernel_size=(5,5),strides=1),\n",
    "  tf.keras.layers.LayerNormalization(),\n",
    "  tf.keras.layers.MaxPooling2D(pool_size=(3,3),strides=2),\n",
    "  tf.keras.layers.ReLU(),\n",
    "  tf.keras.layers.Conv2D(filters=384,kernel_size=(5,5),strides=1),\n",
    "  tf.keras.layers.ReLU(),\n",
    "  tf.keras.layers.Dense(4096,activation='linear'),\n",
    "  tf.keras.layers.Dense(500),\n",
    "]\n",
    ")\n",
    "                       "
   ]
  },
  {
   "cell_type": "code",
   "execution_count": null,
   "metadata": {},
   "outputs": [],
   "source": []
  },
  {
   "cell_type": "code",
   "execution_count": null,
   "metadata": {},
   "outputs": [],
   "source": []
  }
 ],
 "metadata": {
  "kernelspec": {
   "display_name": "Python 3",
   "language": "python",
   "name": "python3"
  },
  "language_info": {
   "codemirror_mode": {
    "name": "ipython",
    "version": 3
   },
   "file_extension": ".py",
   "mimetype": "text/x-python",
   "name": "python",
   "nbconvert_exporter": "python",
   "pygments_lexer": "ipython3",
   "version": "3.6.10"
  }
 },
 "nbformat": 4,
 "nbformat_minor": 4
}
